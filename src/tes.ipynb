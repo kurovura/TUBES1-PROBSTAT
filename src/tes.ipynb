{
 "cells": [
  {
   "attachments": {},
   "cell_type": "markdown",
   "metadata": {},
   "source": [
    "Diberikan sebuah data anggur.csv yang dapat diakses pada utas berikut: Dataset Tugas Besar\n",
    "IF2220. anggur.csv merupakan data metrik kualitas wine (minuman anggur) yang\n",
    "mengandung 12 kolom sebagai berikut:\n",
    "1. fixed acidity\n",
    "2. volatile acidity\n",
    "3. citric acid\n",
    "4. residual sugar\n",
    "5. chlorides\n",
    "6. free sulfur dioxide\n",
    "7. total sulfur dioxide\n",
    "8. density\n",
    "9. pH\n",
    "10. sulphates\n",
    "11. alcohol\n",
    "12. quality\n",
    "Kolom 1-11 adalah kolom atribut (non-target), sedangkan kolom 12 adalah kolom\n",
    "target. "
   ]
  },
  {
   "cell_type": "code",
   "execution_count": 28,
   "metadata": {},
   "outputs": [
    {
     "data": {
      "text/plain": [
       "'\"\\nMenulis deskripsi statistika (Descriptive Statistics) dari semua kolom pada data yang bersifat\\nnumerik, terdiri dari mean, median, modus, standar deviasi, variansi, range, nilai minimum,\\nmaksimum, kuartil, IQR, skewness dan kurtosis. Boleh juga ditambahkan deskripsi lain.\\n'"
      ]
     },
     "execution_count": 28,
     "metadata": {},
     "output_type": "execute_result"
    }
   ],
   "source": [
    "# SOAL 1\n",
    "\"\"\"\"\n",
    "Menulis deskripsi statistika (Descriptive Statistics) dari semua kolom pada data yang bersifat\n",
    "numerik, terdiri dari mean, median, modus, standar deviasi, variansi, range, nilai minimum,\n",
    "maksimum, kuartil, IQR, skewness dan kurtosis. Boleh juga ditambahkan deskripsi lain.\n",
    "\"\"\"\n",
    "\n"
   ]
  },
  {
   "cell_type": "code",
   "execution_count": 29,
   "metadata": {},
   "outputs": [
    {
     "name": "stdout",
     "output_type": "stream",
     "text": [
      "          fixed acidity  volatile acidity  citric acid  residual sugar  \\\n",
      "Mean           7.152530          0.520839     0.270517        2.567104   \n",
      "Median         7.150000          0.524850     0.272200        2.519430   \n",
      "Mode           6.540000          0.554600     0.301900        0.032555   \n",
      "Std Dev        1.201598          0.095848     0.049098        0.987915   \n",
      "Variance       1.443837          0.009187     0.002411        0.975977   \n",
      "Range          8.170000          0.665200     0.292900        5.518200   \n",
      "Min            3.320000          0.139900     0.116700        0.032555   \n",
      "Max           11.490000          0.805100     0.409600        5.550755   \n",
      "Q1             6.377500          0.456100     0.237800        1.896330   \n",
      "Q2             7.150000          0.524850     0.272200        2.519430   \n",
      "Q3             8.000000          0.585375     0.302325        3.220873   \n",
      "IQR            1.622500          0.129275     0.064525        1.324544   \n",
      "Skewness      -0.028835         -0.197402    -0.045508        0.132439   \n",
      "Kurtosis      -0.025190          0.155051    -0.110151       -0.048759   \n",
      "\n",
      "          chlorides  free sulfur dioxide  total sulfur dioxide   density  \\\n",
      "Mean       0.081195            14.907679             40.290150  0.995925   \n",
      "Median     0.082167            14.860346             40.190000  0.996000   \n",
      "Mode       0.015122             0.194679             35.200000  0.995900   \n",
      "Std Dev    0.020111             4.888100              9.965767  0.002020   \n",
      "Variance   0.000404            23.893519             99.316519  0.000004   \n",
      "Range      0.125635            27.267847             66.810000  0.013800   \n",
      "Min        0.015122             0.194679              3.150000  0.988800   \n",
      "Max        0.140758            27.462525             69.960000  1.002600   \n",
      "Q1         0.066574            11.426717             33.785000  0.994600   \n",
      "Q2         0.082167            14.860346             40.190000  0.996000   \n",
      "Q3         0.095312            18.313098             47.022500  0.997200   \n",
      "IQR        0.028738             6.886381             13.237500  0.002600   \n",
      "Skewness  -0.051242             0.007120             -0.024024 -0.076767   \n",
      "Kurtosis  -0.251271            -0.369135              0.057636  0.010290   \n",
      "\n",
      "                pH  sulphates    alcohol    quality  \n",
      "Mean      3.303610   0.598390  10.592280   7.958000  \n",
      "Median    3.300000   0.595000  10.610000   8.000000  \n",
      "Mode      3.340000   0.590000   9.860000   8.000000  \n",
      "Std Dev   0.104875   0.100819   1.510706   0.902802  \n",
      "Variance  0.010999   0.010164   2.282233   0.815051  \n",
      "Range     0.740000   0.670000   8.990000   5.000000  \n",
      "Min       2.970000   0.290000   6.030000   5.000000  \n",
      "Max       3.710000   0.960000  15.020000  10.000000  \n",
      "Q1        3.230000   0.530000   9.560000   7.000000  \n",
      "Q2        3.300000   0.595000  10.610000   8.000000  \n",
      "Q3        3.370000   0.670000  11.622500   9.000000  \n",
      "IQR       0.140000   0.140000   2.062500   2.000000  \n",
      "Skewness  0.147451   0.148975  -0.018963  -0.088920  \n",
      "Kurtosis  0.074512   0.058502  -0.137068   0.101756  \n"
     ]
    }
   ],
   "source": [
    "import pandas as pd\n",
    "import numpy as np\n",
    "from scipy.stats import skew, kurtosis\n",
    "\n",
    "df = pd.read_csv(\"C:/Users/62822/Downloads/anggur.csv\")\n",
    "\n",
    "#deskripsi statistik\n",
    "statDesc = pd.DataFrame({\n",
    "    \"Mean\": df.mean(),\n",
    "    \"Median\": df.median(),\n",
    "    \"Mode\": df.mode().iloc[0], # Ambil modus yang pertama kali didapat\n",
    "    \"Std Dev\": df.std(),\n",
    "    \"Variance\": df.var(),\n",
    "    \"Range\": df.max() - df.min(),\n",
    "    \"Min\": df.min(),\n",
    "    \"Max\": df.max(),\n",
    "    \"Q1\": df.quantile(0.25),\n",
    "    \"Q2\": df.quantile(0.5),\n",
    "    \"Q3\": df.quantile(0.75),\n",
    "    \"IQR\": df.quantile(0.75) - df.quantile(0.25),\n",
    "    \"Skewness\": skew(df),\n",
    "    \"Kurtosis\": kurtosis(df)\n",
    "})\n",
    "\n",
    "print(statDesc.transpose())\n"
   ]
  }
 ],
 "metadata": {
  "kernelspec": {
   "display_name": "Python 3",
   "language": "python",
   "name": "python3"
  },
  "language_info": {
   "codemirror_mode": {
    "name": "ipython",
    "version": 3
   },
   "file_extension": ".py",
   "mimetype": "text/x-python",
   "name": "python",
   "nbconvert_exporter": "python",
   "pygments_lexer": "ipython3",
   "version": "3.10.10"
  },
  "orig_nbformat": 4
 },
 "nbformat": 4,
 "nbformat_minor": 2
}
